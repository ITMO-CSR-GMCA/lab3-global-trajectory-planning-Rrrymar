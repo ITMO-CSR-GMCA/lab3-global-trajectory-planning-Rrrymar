{
 "cells": [
  {
   "cell_type": "markdown",
   "id": "c5a4417e",
   "metadata": {},
   "source": [
    "Lab 3"
   ]
  },
  {
   "cell_type": "markdown",
   "id": "8496dcc6",
   "metadata": {},
   "source": [
    "Task:\n",
    "1. Write a program for planning a path from the initial point to the final point bypassing obstacles using the potential field method.\n",
    "2. Independently determine the initial point of movement, the final point, and obstacles in the workspace.\n",
    "3. The program code must reflect all the steps for constructing the potential field of the workspace, the order of calculating the gradient, and determining the subsequent direction of movement.\n",
    "4. Illustrate achieved results."
   ]
  },
  {
   "cell_type": "code",
   "execution_count": 10,
   "id": "70ee5edb",
   "metadata": {},
   "outputs": [],
   "source": [
    "import numpy as np\n",
    "import roboticstoolbox as rtb\n",
    "from spatialmath import SE3\n",
    "from swift import Swift"
   ]
  },
  {
   "cell_type": "markdown",
   "id": "39822e0c",
   "metadata": {},
   "source": [
    "1. Loading the manipulator model Panda\n"
   ]
  },
  {
   "cell_type": "code",
   "execution_count": 11,
   "id": "40e61d32",
   "metadata": {},
   "outputs": [
    {
     "data": {
      "text/plain": [
       "0"
      ]
     },
     "execution_count": 11,
     "metadata": {},
     "output_type": "execute_result"
    },
    {
     "name": "stderr",
     "output_type": "stream",
     "text": [
      "connection handler failed\n",
      "Traceback (most recent call last):\n",
      "  File \"c:\\Users\\Vladr\\AppData\\Local\\Programs\\Python\\Python38\\lib\\site-packages\\websockets\\legacy\\protocol.py\", line 953, in transfer_data\n",
      "    message = await self.read_message()\n",
      "  File \"c:\\Users\\Vladr\\AppData\\Local\\Programs\\Python\\Python38\\lib\\site-packages\\websockets\\legacy\\protocol.py\", line 1023, in read_message\n",
      "    frame = await self.read_data_frame(max_size=self.max_size)\n",
      "  File \"c:\\Users\\Vladr\\AppData\\Local\\Programs\\Python\\Python38\\lib\\site-packages\\websockets\\legacy\\protocol.py\", line 1098, in read_data_frame\n",
      "    frame = await self.read_frame(max_size)\n",
      "  File \"c:\\Users\\Vladr\\AppData\\Local\\Programs\\Python\\Python38\\lib\\site-packages\\websockets\\legacy\\protocol.py\", line 1155, in read_frame\n",
      "    frame = await Frame.read(\n",
      "  File \"c:\\Users\\Vladr\\AppData\\Local\\Programs\\Python\\Python38\\lib\\site-packages\\websockets\\legacy\\framing.py\", line 70, in read\n",
      "    data = await reader(2)\n",
      "  File \"c:\\Users\\Vladr\\AppData\\Local\\Programs\\Python\\Python38\\lib\\asyncio\\streams.py\", line 723, in readexactly\n",
      "    await self._wait_for_data('readexactly')\n",
      "  File \"c:\\Users\\Vladr\\AppData\\Local\\Programs\\Python\\Python38\\lib\\asyncio\\streams.py\", line 517, in _wait_for_data\n",
      "    await self._waiter\n",
      "  File \"c:\\Users\\Vladr\\AppData\\Local\\Programs\\Python\\Python38\\lib\\asyncio\\selector_events.py\", line 848, in _read_ready__data_received\n",
      "    data = self._sock.recv(self.max_size)\n",
      "ConnectionAbortedError: [WinError 10053] An established connection was aborted by the software in your host machine\n",
      "\n",
      "The above exception was the direct cause of the following exception:\n",
      "\n",
      "Traceback (most recent call last):\n",
      "  File \"c:\\Users\\Vladr\\AppData\\Local\\Programs\\Python\\Python38\\lib\\site-packages\\websockets\\legacy\\server.py\", line 245, in handler\n",
      "    await self.ws_handler(self)\n",
      "  File \"c:\\Users\\Vladr\\AppData\\Local\\Programs\\Python\\Python38\\lib\\site-packages\\websockets\\legacy\\server.py\", line 1190, in _ws_handler\n",
      "    return await cast(\n",
      "  File \"c:\\Users\\Vladr\\AppData\\Local\\Programs\\Python\\Python38\\lib\\site-packages\\swift\\SwiftRoute.py\", line 320, in serve\n",
      "    await self.expect_message(websocket, expected)\n",
      "  File \"c:\\Users\\Vladr\\AppData\\Local\\Programs\\Python\\Python38\\lib\\site-packages\\swift\\SwiftRoute.py\", line 325, in expect_message\n",
      "    recieved = await websocket.recv()\n",
      "  File \"c:\\Users\\Vladr\\AppData\\Local\\Programs\\Python\\Python38\\lib\\site-packages\\websockets\\legacy\\protocol.py\", line 562, in recv\n",
      "    await self.ensure_open()\n",
      "  File \"c:\\Users\\Vladr\\AppData\\Local\\Programs\\Python\\Python38\\lib\\site-packages\\websockets\\legacy\\protocol.py\", line 929, in ensure_open\n",
      "    raise self.connection_closed_exc()\n",
      "websockets.exceptions.ConnectionClosedError: no close frame received or sent\n"
     ]
    }
   ],
   "source": [
    "robot = rtb.models.DH.Puma560()\n",
    "env = Swift()\n",
    "env.launch(realtime=True)\n",
    "env.add(robot)"
   ]
  },
  {
   "cell_type": "markdown",
   "id": "69675f56",
   "metadata": {},
   "source": [
    "2. Definition of working poses \n",
    "Initial pose (q = [θ1, θ2, d3, θ4, θ5, θ6])"
   ]
  },
  {
   "cell_type": "code",
   "execution_count": 18,
   "id": "5ad9ca05",
   "metadata": {},
   "outputs": [],
   "source": [
    "start_pose = SE3(0.5, -0.3, 0.2)"
   ]
  },
  {
   "cell_type": "markdown",
   "id": "44f796ab",
   "metadata": {},
   "source": [
    "The target pose of the effector"
   ]
  },
  {
   "cell_type": "code",
   "execution_count": 19,
   "id": "38b959f7",
   "metadata": {},
   "outputs": [],
   "source": [
    "goal_pose = SE3(0.4, 0.5, 0.3)"
   ]
  },
  {
   "cell_type": "code",
   "execution_count": 22,
   "id": "76f30a6e",
   "metadata": {},
   "outputs": [
    {
     "ename": "AttributeError",
     "evalue": "'Cylinder' object has no attribute 'parent'",
     "output_type": "error",
     "traceback": [
      "\u001b[1;31m---------------------------------------------------------------------------\u001b[0m",
      "\u001b[1;31mAttributeError\u001b[0m                            Traceback (most recent call last)",
      "Cell \u001b[1;32mIn[22], line 3\u001b[0m\n\u001b[0;32m      1\u001b[0m \u001b[38;5;66;03m# Добавление визуальных маркеров\u001b[39;00m\n\u001b[0;32m      2\u001b[0m goal_marker \u001b[38;5;241m=\u001b[39m rtb\u001b[38;5;241m.\u001b[39mmodels\u001b[38;5;241m.\u001b[39mURDF\u001b[38;5;241m.\u001b[39mPanda()\u001b[38;5;241m.\u001b[39mlinks[\u001b[38;5;241m7\u001b[39m]\u001b[38;5;241m.\u001b[39mcollision[\u001b[38;5;241m0\u001b[39m]\n\u001b[1;32m----> 3\u001b[0m \u001b[43mgoal_marker\u001b[49m\u001b[38;5;241;43m.\u001b[39;49m\u001b[43mT\u001b[49m \u001b[38;5;241m=\u001b[39m goal_pose\n\u001b[0;32m      4\u001b[0m env\u001b[38;5;241m.\u001b[39madd(goal_marker)\n",
      "File \u001b[1;32mc:\\Users\\Vladr\\AppData\\Local\\Programs\\Python\\Python38\\lib\\site-packages\\spatialgeometry\\geom\\Shape.py:290\u001b[0m, in \u001b[0;36mShape.T\u001b[1;34m(self, T_new)\u001b[0m\n\u001b[0;32m    288\u001b[0m \u001b[38;5;28;01mif\u001b[39;00m \u001b[38;5;28misinstance\u001b[39m(T_new, SE3):\n\u001b[0;32m    289\u001b[0m     T_new \u001b[38;5;241m=\u001b[39m T_new\u001b[38;5;241m.\u001b[39mA\n\u001b[1;32m--> 290\u001b[0m \u001b[38;5;28;43mself\u001b[39;49m\u001b[38;5;241;43m.\u001b[39;49m\u001b[43m_T\u001b[49m \u001b[38;5;241m=\u001b[39m T_new\n",
      "File \u001b[1;32mc:\\Users\\Vladr\\AppData\\Local\\Programs\\Python\\Python38\\lib\\site-packages\\spatialgeometry\\geom\\SceneNode.py:279\u001b[0m, in \u001b[0;36mSceneNode._T\u001b[1;34m(self, T)\u001b[0m\n\u001b[0;32m    276\u001b[0m \u001b[38;5;28mself\u001b[39m\u001b[38;5;241m.\u001b[39m__T[:] \u001b[38;5;241m=\u001b[39m T\u001b[38;5;241m.\u001b[39mcopy(order\u001b[38;5;241m=\u001b[39m\u001b[38;5;124m\"\u001b[39m\u001b[38;5;124mF\u001b[39m\u001b[38;5;124m\"\u001b[39m)\n\u001b[0;32m    278\u001b[0m \u001b[38;5;28;01mif\u001b[39;00m \u001b[38;5;28mself\u001b[39m\u001b[38;5;241m.\u001b[39m_scene_parent \u001b[38;5;129;01mis\u001b[39;00m \u001b[38;5;129;01mnot\u001b[39;00m \u001b[38;5;28;01mNone\u001b[39;00m:\n\u001b[1;32m--> 279\u001b[0m     \u001b[38;5;28mself\u001b[39m\u001b[38;5;241m.\u001b[39m__wT[:] \u001b[38;5;241m=\u001b[39m \u001b[38;5;28;43mself\u001b[39;49m\u001b[38;5;241;43m.\u001b[39;49m\u001b[43mparent\u001b[49m\u001b[38;5;241m.\u001b[39mwT \u001b[38;5;241m@\u001b[39m \u001b[38;5;28mself\u001b[39m\u001b[38;5;241m.\u001b[39m_T\n\u001b[0;32m    280\u001b[0m \u001b[38;5;28;01melse\u001b[39;00m:\n\u001b[0;32m    281\u001b[0m     \u001b[38;5;28mself\u001b[39m\u001b[38;5;241m.\u001b[39m__wT[:] \u001b[38;5;241m=\u001b[39m \u001b[38;5;28mself\u001b[39m\u001b[38;5;241m.\u001b[39m_T\n",
      "\u001b[1;31mAttributeError\u001b[0m: 'Cylinder' object has no attribute 'parent'"
     ]
    }
   ],
   "source": [
    "# Добавление визуальных маркеров\n",
    "goal_marker = rtb.models.URDF.Panda().links[7].collision[0]\n",
    "goal_marker.T = goal_pose\n",
    "env.add(goal_marker)"
   ]
  },
  {
   "cell_type": "markdown",
   "id": "efd1680d",
   "metadata": {},
   "source": [
    "3. Identify obstacles"
   ]
  },
  {
   "cell_type": "code",
   "execution_count": 26,
   "id": "87c3a126",
   "metadata": {},
   "outputs": [],
   "source": [
    "obstacles = [\n",
    "    {'pos': [0.4, 0.2, 0.3], 'radius': 0.1},\n",
    "    {'pos': [0.3, -0.1, 0.4], 'radius': 0.08}\n",
    "]"
   ]
  },
  {
   "cell_type": "markdown",
   "id": "bfed9687",
   "metadata": {},
   "source": [
    "4. Potential Functions for Stanford Arm"
   ]
  },
  {
   "cell_type": "code",
   "execution_count": 27,
   "id": "e7380fb3",
   "metadata": {},
   "outputs": [],
   "source": [
    "params = {\n",
    "    'k_att': 0.8,      # Коэффициент притяжения\n",
    "    'k_rep': 0.5,      # Коэффициент отталкивания\n",
    "    'd_safe': 0.15,    # Радиус влияния препятствий\n",
    "    'step_size': 0.05, # Шаг движения\n",
    "    'max_steps': 500   # Максимальное число итераций\n",
    "}\n"
   ]
  },
  {
   "cell_type": "code",
   "execution_count": 28,
   "id": "ed056fb1",
   "metadata": {},
   "outputs": [],
   "source": [
    "\n",
    "def compute_forces(q):\n",
    "    current_pose = robot.fkine(q)\n",
    "    pos = current_pose.t\n",
    "    \n",
    "    # Притягивающая сила\n",
    "    f_att = params['k_att'] * (goal_pose.t - pos)\n",
    "    \n",
    "    # Отталкивающие силы\n",
    "    f_rep = np.zeros(3)\n",
    "    for obs in obstacles:\n",
    "        delta = pos - obs['pos']\n",
    "        dist = np.linalg.norm(delta)\n",
    "        if dist < obs['radius'] + params['d_safe']:\n",
    "            dir_vec = delta / (dist + 1e-6)\n",
    "            rep_mag = params['k_rep'] * (1/(dist - obs['radius']) - 1/params['d_safe'])\n",
    "            f_rep += rep_mag * dir_vec\n",
    "    \n",
    "    return f_att + f_rep"
   ]
  },
  {
   "cell_type": "markdown",
   "id": "84912029",
   "metadata": {},
   "source": [
    "5. Numerical calculation of the gradient"
   ]
  },
  {
   "cell_type": "code",
   "execution_count": 8,
   "id": "bdd4fc5e",
   "metadata": {},
   "outputs": [
    {
     "ename": "TypeError",
     "evalue": "'IKSolution' object is not subscriptable",
     "output_type": "error",
     "traceback": [
      "\u001b[1;31m---------------------------------------------------------------------------\u001b[0m",
      "\u001b[1;31mTypeError\u001b[0m                                 Traceback (most recent call last)",
      "Cell \u001b[1;32mIn[8], line 2\u001b[0m\n\u001b[0;32m      1\u001b[0m \u001b[38;5;66;03m# Начальная конфигурация (по обратной кинематике)\u001b[39;00m\n\u001b[1;32m----> 2\u001b[0m q_start \u001b[38;5;241m=\u001b[39m \u001b[43mrobot\u001b[49m\u001b[38;5;241;43m.\u001b[39;49m\u001b[43mikine_LM\u001b[49m\u001b[43m(\u001b[49m\u001b[43mSE3\u001b[49m\u001b[43m(\u001b[49m\u001b[43mstart_xyz\u001b[49m\u001b[43m)\u001b[49m\u001b[43m)\u001b[49m\u001b[43m[\u001b[49m\u001b[38;5;241;43m0\u001b[39;49m\u001b[43m]\u001b[49m\n\u001b[0;32m      3\u001b[0m q \u001b[38;5;241m=\u001b[39m q_start\u001b[38;5;241m.\u001b[39mcopy()\n\u001b[0;32m      4\u001b[0m path \u001b[38;5;241m=\u001b[39m [robot\u001b[38;5;241m.\u001b[39mfkine(q)\u001b[38;5;241m.\u001b[39mt[:\u001b[38;5;241m2\u001b[39m]]\n",
      "\u001b[1;31mTypeError\u001b[0m: 'IKSolution' object is not subscriptable"
     ]
    }
   ],
   "source": [
    "# Начальная конфигурация (по обратной кинематике)\n",
    "q_start = robot.ikine_LM(SE3(start_xyz))[0]\n",
    "q = q_start.copy()\n",
    "path = [robot.fkine(q).t[:2]]\n",
    "\n",
    "for i in range(200):\n",
    "    pos = robot.fkine(q).t\n",
    "    pos2d = pos[:2]\n",
    "    # Суммарная сила\n",
    "    f_att = attractive_force(pos2d, goal_xyz[:2])\n",
    "    f_rep = repulsive_force(pos2d)\n",
    "    f_total = f_att + f_rep\n",
    "    # Перевод силы в приращение по конфигурации через якобиан\n",
    "    J = robot.jacobe(q)[:2, :]  # 2x6 якобиан по x,y\n",
    "    dq = np.linalg.pinv(J) @ f_total * 0.1\n",
    "    q += dq\n",
    "    path.append(robot.fkine(q).t[:2])\n",
    "    # Остановка при достижении цели\n",
    "    if np.linalg.norm(pos2d - goal_xyz[:2]) < 0.01:\n",
    "        break\n"
   ]
  },
  {
   "cell_type": "markdown",
   "id": "0374d1aa",
   "metadata": {},
   "source": [
    "6. Trajectory planning"
   ]
  },
  {
   "cell_type": "code",
   "execution_count": null,
   "id": "1ac46598",
   "metadata": {},
   "outputs": [],
   "source": [
    "path = []\n",
    "q = robot.ikine_LM(start_pose).q\n",
    "robot.q = q\n",
    "\n",
    "for _ in range(params['max_steps']):\n",
    "    # Расчет сил и преобразование в скорость суставов\n",
    "    force = compute_forces(q)\n",
    "    J = robot.jacobe(q)[:3,:]\n",
    "    dq = np.linalg.pinv(J) @ force * params['step_size']\n",
    "    \n",
    "    # Обновление конфигурации\n",
    "    q += dq\n",
    "    path.append(q.copy())\n",
    "    robot.q = q\n",
    "    env.step(0.05)\n",
    "    \n",
    "    # Проверка достижения цели\n",
    "    if np.linalg.norm(robot.fkine(q).t - goal_pose.t) < 0.02:\n",
    "        break"
   ]
  },
  {
   "cell_type": "markdown",
   "id": "08df5d66",
   "metadata": {},
   "source": [
    "7. Visualization"
   ]
  },
  {
   "cell_type": "code",
   "execution_count": null,
   "id": "81642451",
   "metadata": {},
   "outputs": [
    {
     "name": "stdout",
     "output_type": "stream",
     "text": [
      "3.7.5\n"
     ]
    }
   ],
   "source": [
    "input(\"Нажмите Enter для воспроизведения траектории...\")\n",
    "env.reset()\n",
    "for q_point in path:\n",
    "    robot.q = q_point\n",
    "    env.step(0.05)"
   ]
  },
  {
   "cell_type": "code",
   "execution_count": null,
   "id": "bd8fe2b2",
   "metadata": {},
   "outputs": [
    {
     "ename": "TypeError",
     "evalue": "argument must be scalar or ndarray",
     "output_type": "error",
     "traceback": [
      "\u001b[1;31m---------------------------------------------------------------------------\u001b[0m",
      "\u001b[1;31mTypeError\u001b[0m                                 Traceback (most recent call last)",
      "Cell \u001b[1;32mIn[34], line 5\u001b[0m\n\u001b[0;32m      1\u001b[0m \u001b[38;5;28;01mimport\u001b[39;00m\u001b[38;5;250m \u001b[39m\u001b[38;5;21;01mroboticstoolbox\u001b[39;00m\u001b[38;5;250m \u001b[39m\u001b[38;5;28;01mas\u001b[39;00m\u001b[38;5;250m \u001b[39m\u001b[38;5;21;01mrtb\u001b[39;00m\n\u001b[0;32m      2\u001b[0m \u001b[38;5;66;03m# Создаём backend для matplotlib\u001b[39;00m\n\u001b[0;32m      3\u001b[0m \n\u001b[0;32m      4\u001b[0m \u001b[38;5;66;03m# Создаем backend PyPlot (важно: используем PyPlot.PyPlot, а не просто PyPlot())\u001b[39;00m\n\u001b[1;32m----> 5\u001b[0m \u001b[43mrobot\u001b[49m\u001b[38;5;241;43m.\u001b[39;49m\u001b[43mplot\u001b[49m\u001b[43m(\u001b[49m\u001b[43mpath\u001b[49m\u001b[43m,\u001b[49m\u001b[43m \u001b[49m\u001b[43mbackend\u001b[49m\u001b[38;5;241;43m=\u001b[39;49m\u001b[38;5;124;43m'\u001b[39;49m\u001b[38;5;124;43mpyplot\u001b[39;49m\u001b[38;5;124;43m'\u001b[39;49m\u001b[43m,\u001b[49m\u001b[43m \u001b[49m\u001b[43mdt\u001b[49m\u001b[38;5;241;43m=\u001b[39;49m\u001b[38;5;241;43m0.05\u001b[39;49m\u001b[43m)\u001b[49m\n",
      "File \u001b[1;32mc:\\Users\\Vladr\\AppData\\Local\\Programs\\Python\\Python38\\lib\\site-packages\\roboticstoolbox\\robot\\BaseRobot.py:2333\u001b[0m, in \u001b[0;36mBaseRobot.plot\u001b[1;34m(self, q, backend, block, dt, limits, vellipse, fellipse, fig, movie, loop, **kwargs)\u001b[0m\n\u001b[0;32m   2329\u001b[0m env \u001b[38;5;241m=\u001b[39m \u001b[38;5;28;01mNone\u001b[39;00m\n\u001b[0;32m   2331\u001b[0m env \u001b[38;5;241m=\u001b[39m \u001b[38;5;28mself\u001b[39m\u001b[38;5;241m.\u001b[39m_get_graphical_backend(backend)\n\u001b[1;32m-> 2333\u001b[0m q \u001b[38;5;241m=\u001b[39m np\u001b[38;5;241m.\u001b[39marray(\u001b[43mgetmatrix\u001b[49m\u001b[43m(\u001b[49m\u001b[43mq\u001b[49m\u001b[43m,\u001b[49m\u001b[43m \u001b[49m\u001b[43m(\u001b[49m\u001b[38;5;28;43;01mNone\u001b[39;49;00m\u001b[43m,\u001b[49m\u001b[43m \u001b[49m\u001b[38;5;28;43mself\u001b[39;49m\u001b[38;5;241;43m.\u001b[39;49m\u001b[43mn\u001b[49m\u001b[43m)\u001b[49m\u001b[43m)\u001b[49m)\n\u001b[0;32m   2334\u001b[0m \u001b[38;5;28mself\u001b[39m\u001b[38;5;241m.\u001b[39mq \u001b[38;5;241m=\u001b[39m q[\u001b[38;5;241m0\u001b[39m, :]\n\u001b[0;32m   2336\u001b[0m \u001b[38;5;66;03m# Add the self to the figure in readonly mode\u001b[39;00m\n",
      "File \u001b[1;32mc:\\Users\\Vladr\\AppData\\Local\\Programs\\Python\\Python38\\lib\\site-packages\\spatialmath\\base\\argcheck.py:247\u001b[0m, in \u001b[0;36mgetmatrix\u001b[1;34m(m, shape, dtype)\u001b[0m\n\u001b[0;32m    244\u001b[0m         \u001b[38;5;28;01mreturn\u001b[39;00m m\u001b[38;5;241m.\u001b[39mreshape((\u001b[38;5;241m1\u001b[39m, \u001b[38;5;241m-\u001b[39m\u001b[38;5;241m1\u001b[39m))\n\u001b[0;32m    246\u001b[0m \u001b[38;5;28;01melse\u001b[39;00m:\n\u001b[1;32m--> 247\u001b[0m     \u001b[38;5;28;01mraise\u001b[39;00m \u001b[38;5;167;01mTypeError\u001b[39;00m(\u001b[38;5;124m\"\u001b[39m\u001b[38;5;124margument must be scalar or ndarray\u001b[39m\u001b[38;5;124m\"\u001b[39m)\n",
      "\u001b[1;31mTypeError\u001b[0m: argument must be scalar or ndarray"
     ]
    }
   ],
   "source": [
    "import roboticstoolbox as rtb\n",
    "# Создаём backend для matplotlib\n",
    "\n",
    "# Создаем backend PyPlot (важно: используем PyPlot.PyPlot, а не просто PyPlot())\n",
    "pyplot = rtb.backends.PyPlot.PyPlot()\n",
    "pyplot.add(robot)\n",
    "\n",
    "# Анимация движения по рассчитанному пути\n",
    "for q in path:\n",
    "    robot.q = q\n",
    "    pyplot.step(dt=0.05)"
   ]
  },
  {
   "cell_type": "code",
   "execution_count": 36,
   "id": "cbe33bb5",
   "metadata": {},
   "outputs": [
    {
     "ename": "TypeError",
     "evalue": "argument must be scalar or ndarray",
     "output_type": "error",
     "traceback": [
      "\u001b[1;31m---------------------------------------------------------------------------\u001b[0m",
      "\u001b[1;31mTypeError\u001b[0m                                 Traceback (most recent call last)",
      "Cell \u001b[1;32mIn[36], line 5\u001b[0m\n\u001b[0;32m      2\u001b[0m \u001b[38;5;28;01mimport\u001b[39;00m\u001b[38;5;250m \u001b[39m\u001b[38;5;21;01mnumpy\u001b[39;00m\u001b[38;5;250m \u001b[39m\u001b[38;5;28;01mas\u001b[39;00m\u001b[38;5;250m \u001b[39m\u001b[38;5;21;01mnp\u001b[39;00m\n\u001b[0;32m      4\u001b[0m \u001b[38;5;66;03m# Анимация движения робота по рассчитанному пути\u001b[39;00m\n\u001b[1;32m----> 5\u001b[0m \u001b[43mrobot\u001b[49m\u001b[38;5;241;43m.\u001b[39;49m\u001b[43mplot\u001b[49m\u001b[43m(\u001b[49m\u001b[43mpath\u001b[49m\u001b[43m,\u001b[49m\u001b[43m \u001b[49m\u001b[43mbackend\u001b[49m\u001b[38;5;241;43m=\u001b[39;49m\u001b[38;5;124;43m'\u001b[39;49m\u001b[38;5;124;43mpyplot\u001b[39;49m\u001b[38;5;124;43m'\u001b[39;49m\u001b[43m,\u001b[49m\u001b[43m \u001b[49m\u001b[43mdt\u001b[49m\u001b[38;5;241;43m=\u001b[39;49m\u001b[38;5;241;43m0.05\u001b[39;49m\u001b[43m)\u001b[49m\n\u001b[0;32m      7\u001b[0m \u001b[38;5;66;03m# 3D-график траектории эффектора и препятствий\u001b[39;00m\n\u001b[0;32m      8\u001b[0m fig \u001b[38;5;241m=\u001b[39m plt\u001b[38;5;241m.\u001b[39mfigure(figsize\u001b[38;5;241m=\u001b[39m(\u001b[38;5;241m10\u001b[39m, \u001b[38;5;241m6\u001b[39m))\n",
      "File \u001b[1;32mc:\\Users\\Vladr\\AppData\\Local\\Programs\\Python\\Python38\\lib\\site-packages\\roboticstoolbox\\robot\\BaseRobot.py:2333\u001b[0m, in \u001b[0;36mBaseRobot.plot\u001b[1;34m(self, q, backend, block, dt, limits, vellipse, fellipse, fig, movie, loop, **kwargs)\u001b[0m\n\u001b[0;32m   2329\u001b[0m env \u001b[38;5;241m=\u001b[39m \u001b[38;5;28;01mNone\u001b[39;00m\n\u001b[0;32m   2331\u001b[0m env \u001b[38;5;241m=\u001b[39m \u001b[38;5;28mself\u001b[39m\u001b[38;5;241m.\u001b[39m_get_graphical_backend(backend)\n\u001b[1;32m-> 2333\u001b[0m q \u001b[38;5;241m=\u001b[39m np\u001b[38;5;241m.\u001b[39marray(\u001b[43mgetmatrix\u001b[49m\u001b[43m(\u001b[49m\u001b[43mq\u001b[49m\u001b[43m,\u001b[49m\u001b[43m \u001b[49m\u001b[43m(\u001b[49m\u001b[38;5;28;43;01mNone\u001b[39;49;00m\u001b[43m,\u001b[49m\u001b[43m \u001b[49m\u001b[38;5;28;43mself\u001b[39;49m\u001b[38;5;241;43m.\u001b[39;49m\u001b[43mn\u001b[49m\u001b[43m)\u001b[49m\u001b[43m)\u001b[49m)\n\u001b[0;32m   2334\u001b[0m \u001b[38;5;28mself\u001b[39m\u001b[38;5;241m.\u001b[39mq \u001b[38;5;241m=\u001b[39m q[\u001b[38;5;241m0\u001b[39m, :]\n\u001b[0;32m   2336\u001b[0m \u001b[38;5;66;03m# Add the self to the figure in readonly mode\u001b[39;00m\n",
      "File \u001b[1;32mc:\\Users\\Vladr\\AppData\\Local\\Programs\\Python\\Python38\\lib\\site-packages\\spatialmath\\base\\argcheck.py:247\u001b[0m, in \u001b[0;36mgetmatrix\u001b[1;34m(m, shape, dtype)\u001b[0m\n\u001b[0;32m    244\u001b[0m         \u001b[38;5;28;01mreturn\u001b[39;00m m\u001b[38;5;241m.\u001b[39mreshape((\u001b[38;5;241m1\u001b[39m, \u001b[38;5;241m-\u001b[39m\u001b[38;5;241m1\u001b[39m))\n\u001b[0;32m    246\u001b[0m \u001b[38;5;28;01melse\u001b[39;00m:\n\u001b[1;32m--> 247\u001b[0m     \u001b[38;5;28;01mraise\u001b[39;00m \u001b[38;5;167;01mTypeError\u001b[39;00m(\u001b[38;5;124m\"\u001b[39m\u001b[38;5;124margument must be scalar or ndarray\u001b[39m\u001b[38;5;124m\"\u001b[39m)\n",
      "\u001b[1;31mTypeError\u001b[0m: argument must be scalar or ndarray"
     ]
    }
   ],
   "source": [
    "import matplotlib.pyplot as plt\n",
    "import numpy as np\n",
    "\n",
    "# Анимация движения робота по рассчитанному пути\n",
    "robot.plot(path, backend='pyplot', dt=0.05)\n",
    "\n",
    "# 3D-график траектории эффектора и препятствий\n",
    "fig = plt.figure(figsize=(10, 6))\n",
    "ax = fig.add_subplot(111, projection='3d')\n",
    "\n",
    "# Траектория эффектора\n",
    "ee_path = np.array([robot.fkine(q).t for q in path])\n",
    "ax.plot(ee_path[:, 0], ee_path[:, 1], ee_path[:, 2], 'b-', lw=2, label='Траектория эффектора')\n",
    "\n",
    "# Визуализация препятствий (предполагается, что obstacles — список словарей с 'center' и 'radius')\n",
    "for obs in obstacles:\n",
    "    u, v = np.mgrid[0:2*np.pi:20j, 0:np.pi:10j]\n",
    "    x = obs['center'][0] + obs['radius'] * np.cos(u) * np.sin(v)\n",
    "    y = obs['center'][1] + obs['radius'] * np.sin(u) * np.sin(v)\n",
    "    z = obs['center'][2] + obs['radius'] * np.cos(v)\n",
    "    ax.plot_surface(x, y, z, color='r', alpha=0.3)\n",
    "\n",
    "ax.set_xlabel('X')\n",
    "ax.set_ylabel('Y')\n",
    "ax.set_zlabel('Z')\n",
    "ax.set_title('Траектория Stanford Arm с учётом препятствий')\n",
    "ax.legend()\n",
    "plt.show()"
   ]
  },
  {
   "cell_type": "code",
   "execution_count": null,
   "id": "7a360071",
   "metadata": {},
   "outputs": [
    {
     "ename": "TypeError",
     "evalue": "argument must be scalar or ndarray",
     "output_type": "error",
     "traceback": [
      "\u001b[1;31m---------------------------------------------------------------------------\u001b[0m",
      "\u001b[1;31mTypeError\u001b[0m                                 Traceback (most recent call last)",
      "Cell \u001b[1;32mIn[29], line 2\u001b[0m\n\u001b[0;32m      1\u001b[0m \u001b[38;5;66;03m# --- Анимация движения ---\u001b[39;00m\n\u001b[1;32m----> 2\u001b[0m \u001b[43mrobot\u001b[49m\u001b[38;5;241;43m.\u001b[39;49m\u001b[43mplot\u001b[49m\u001b[43m(\u001b[49m\u001b[43mpath\u001b[49m\u001b[43m,\u001b[49m\u001b[43m \u001b[49m\u001b[43mbackend\u001b[49m\u001b[38;5;241;43m=\u001b[39;49m\u001b[38;5;124;43m'\u001b[39;49m\u001b[38;5;124;43mpyplot\u001b[39;49m\u001b[38;5;124;43m'\u001b[39;49m\u001b[43m,\u001b[49m\u001b[43m \u001b[49m\u001b[43mdt\u001b[49m\u001b[38;5;241;43m=\u001b[39;49m\u001b[38;5;241;43m0.05\u001b[39;49m\u001b[43m)\u001b[49m\n\u001b[0;32m      4\u001b[0m \u001b[38;5;66;03m# --- Траектория и препятствия ---\u001b[39;00m\n\u001b[0;32m      5\u001b[0m \n\u001b[0;32m      6\u001b[0m \u001b[38;5;66;03m# --- График траектории эффектора и препятствий ---\u001b[39;00m\n\u001b[0;32m      7\u001b[0m \u001b[38;5;28;01mimport\u001b[39;00m\u001b[38;5;250m \u001b[39m\u001b[38;5;21;01mmatplotlib\u001b[39;00m\u001b[38;5;21;01m.\u001b[39;00m\u001b[38;5;21;01mpyplot\u001b[39;00m\u001b[38;5;250m \u001b[39m\u001b[38;5;28;01mas\u001b[39;00m\u001b[38;5;250m \u001b[39m\u001b[38;5;21;01mplt\u001b[39;00m\n",
      "File \u001b[1;32mc:\\Users\\Vladr\\AppData\\Local\\Programs\\Python\\Python38\\lib\\site-packages\\roboticstoolbox\\robot\\BaseRobot.py:2333\u001b[0m, in \u001b[0;36mBaseRobot.plot\u001b[1;34m(self, q, backend, block, dt, limits, vellipse, fellipse, fig, movie, loop, **kwargs)\u001b[0m\n\u001b[0;32m   2329\u001b[0m env \u001b[38;5;241m=\u001b[39m \u001b[38;5;28;01mNone\u001b[39;00m\n\u001b[0;32m   2331\u001b[0m env \u001b[38;5;241m=\u001b[39m \u001b[38;5;28mself\u001b[39m\u001b[38;5;241m.\u001b[39m_get_graphical_backend(backend)\n\u001b[1;32m-> 2333\u001b[0m q \u001b[38;5;241m=\u001b[39m np\u001b[38;5;241m.\u001b[39marray(\u001b[43mgetmatrix\u001b[49m\u001b[43m(\u001b[49m\u001b[43mq\u001b[49m\u001b[43m,\u001b[49m\u001b[43m \u001b[49m\u001b[43m(\u001b[49m\u001b[38;5;28;43;01mNone\u001b[39;49;00m\u001b[43m,\u001b[49m\u001b[43m \u001b[49m\u001b[38;5;28;43mself\u001b[39;49m\u001b[38;5;241;43m.\u001b[39;49m\u001b[43mn\u001b[49m\u001b[43m)\u001b[49m\u001b[43m)\u001b[49m)\n\u001b[0;32m   2334\u001b[0m \u001b[38;5;28mself\u001b[39m\u001b[38;5;241m.\u001b[39mq \u001b[38;5;241m=\u001b[39m q[\u001b[38;5;241m0\u001b[39m, :]\n\u001b[0;32m   2336\u001b[0m \u001b[38;5;66;03m# Add the self to the figure in readonly mode\u001b[39;00m\n",
      "File \u001b[1;32mc:\\Users\\Vladr\\AppData\\Local\\Programs\\Python\\Python38\\lib\\site-packages\\spatialmath\\base\\argcheck.py:247\u001b[0m, in \u001b[0;36mgetmatrix\u001b[1;34m(m, shape, dtype)\u001b[0m\n\u001b[0;32m    244\u001b[0m         \u001b[38;5;28;01mreturn\u001b[39;00m m\u001b[38;5;241m.\u001b[39mreshape((\u001b[38;5;241m1\u001b[39m, \u001b[38;5;241m-\u001b[39m\u001b[38;5;241m1\u001b[39m))\n\u001b[0;32m    246\u001b[0m \u001b[38;5;28;01melse\u001b[39;00m:\n\u001b[1;32m--> 247\u001b[0m     \u001b[38;5;28;01mraise\u001b[39;00m \u001b[38;5;167;01mTypeError\u001b[39;00m(\u001b[38;5;124m\"\u001b[39m\u001b[38;5;124margument must be scalar or ndarray\u001b[39m\u001b[38;5;124m\"\u001b[39m)\n",
      "\u001b[1;31mTypeError\u001b[0m: argument must be scalar or ndarray"
     ]
    }
   ],
   "source": [
    "\n",
    "\n",
    "# --- Траектория и препятствия ---\n",
    "\n",
    "# --- График траектории эффектора и препятствий ---\n",
    "import matplotlib.pyplot as plt\n",
    "from mpl_toolkits.mplot3d import Axes3D  # noqa: F401\n",
    "\n",
    "fig = plt.figure(figsize=(10, 6))\n",
    "ax = fig.add_subplot(111, projection='3d')\n",
    "\n",
    "# Траектория эффектора\n",
    "ee_path = np.array([robot.fkine(q).t for q in path])\n",
    "ax.plot(ee_path[:, 0], ee_path[:, 1], ee_path[:, 2], 'b-', lw=2, label='Траектория Эффектора')\n",
    "\n",
    "# Препятствия\n",
    "for obs in obstacles:\n",
    "    u, v = np.mgrid[0:2*np.pi:20j, 0:np.pi:10j]\n",
    "    x = obs['center'][0] + obs['radius'] * np.cos(u) * np.sin(v)\n",
    "    y = obs['center'][1] + obs['radius'] * np.sin(u) * np.sin(v)\n",
    "    z = obs['center'][2] + obs['radius'] * np.cos(v)\n",
    "    ax.plot_surface(x, y, z, color='r', alpha=0.3)\n",
    "\n",
    "ax.set_xlabel('X')\n",
    "ax.set_ylabel('Y')\n",
    "ax.set_zlabel('Z')\n",
    "ax.set_title('Траектория Stanford Arm с учётом препятствий')\n",
    "ax.legend()\n",
    "plt.show()"
   ]
  },
  {
   "cell_type": "code",
   "execution_count": null,
   "id": "c5a31556",
   "metadata": {},
   "outputs": [
    {
     "ename": "TypeError",
     "evalue": "'module' object is not callable",
     "output_type": "error",
     "traceback": [
      "\u001b[1;31m---------------------------------------------------------------------------\u001b[0m",
      "\u001b[1;31mTypeError\u001b[0m                                 Traceback (most recent call last)",
      "Cell \u001b[1;32mIn[22], line 2\u001b[0m\n\u001b[0;32m      1\u001b[0m \u001b[38;5;66;03m# Создаём backend для matplotlib\u001b[39;00m\n\u001b[1;32m----> 2\u001b[0m pyplot \u001b[38;5;241m=\u001b[39m \u001b[43mrtb\u001b[49m\u001b[38;5;241;43m.\u001b[39;49m\u001b[43mbackends\u001b[49m\u001b[38;5;241;43m.\u001b[39;49m\u001b[43mPyPlot\u001b[49m\u001b[43m(\u001b[49m\u001b[43m)\u001b[49m \n\u001b[0;32m      3\u001b[0m pyplot\u001b[38;5;241m.\u001b[39madd(robot)  \u001b[38;5;66;03m# Добавляем робота в backend\u001b[39;00m\n\u001b[0;32m      5\u001b[0m \u001b[38;5;28;01mfor\u001b[39;00m q \u001b[38;5;129;01min\u001b[39;00m path:\n",
      "\u001b[1;31mTypeError\u001b[0m: 'module' object is not callable"
     ]
    }
   ],
   "source": [
    "\n",
    "# Анимация движения\n",
    "robot.plot(path, backend='swift', dt=0.05)\n",
    "\n",
    "# График траектории в пространстве\n",
    "fig = plt.figure(figsize=(10,6))\n",
    "ax = fig.add_subplot(111, projection='3d')\n",
    "\n",
    "# Траектория эффектора\n",
    "ee_path = np.array([robot.fkine(q).t for q in path])\n",
    "ax.plot(ee_path[:,0], ee_path[:,1], ee_path[:,2], 'b-', lw=2)\n",
    "\n",
    "# Препятствия\n",
    "for obs in obstacles:\n",
    "    u, v = np.mgrid[0:2*np.pi:20j, 0:np.pi:10j]\n",
    "    x = obs['center'][0] + obs['radius']*np.cos(u)*np.sin(v)\n",
    "    y = obs['center'][1] + obs['radius']*np.sin(u)*np.sin(v)\n",
    "    z = obs['center'][2] + obs['radius']*np.cos(v)\n",
    "    ax.plot_surface(x, y, z, color='r', alpha=0.3)\n",
    "\n",
    "ax.set_xlabel('X')\n",
    "ax.set_ylabel('Y')\n",
    "ax.set_zlabel('Z')\n",
    "plt.title('Траектория Stanford Arm с учётом препятствий')\n",
    "plt.show()"
   ]
  },
  {
   "cell_type": "markdown",
   "id": "61f2223b",
   "metadata": {},
   "source": []
  }
 ],
 "metadata": {
  "kernelspec": {
   "display_name": "Python 3",
   "language": "python",
   "name": "python3"
  },
  "language_info": {
   "codemirror_mode": {
    "name": "ipython",
    "version": 3
   },
   "file_extension": ".py",
   "mimetype": "text/x-python",
   "name": "python",
   "nbconvert_exporter": "python",
   "pygments_lexer": "ipython3",
   "version": "3.8.10"
  }
 },
 "nbformat": 4,
 "nbformat_minor": 5
}
