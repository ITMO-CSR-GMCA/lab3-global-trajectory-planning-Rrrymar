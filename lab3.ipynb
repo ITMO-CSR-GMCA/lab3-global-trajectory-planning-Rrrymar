{
 "cells": [
  {
   "cell_type": "markdown",
   "id": "c5a4417e",
   "metadata": {},
   "source": [
    "Lab 3"
   ]
  },
  {
   "cell_type": "markdown",
   "id": "8496dcc6",
   "metadata": {},
   "source": [
    "Task:\n",
    "1. Write a program for planning a path from the initial point to the final point bypassing obstacles using the potential field method.\n",
    "2. Independently determine the initial point of movement, the final point, and obstacles in the workspace.\n",
    "3. The program code must reflect all the steps for constructing the potential field of the workspace, the order of calculating the gradient, and determining the subsequent direction of movement.\n",
    "4. Illustrate achieved results."
   ]
  },
  {
   "cell_type": "code",
   "execution_count": 3,
   "id": "70ee5edb",
   "metadata": {},
   "outputs": [],
   "source": [
    "import numpy as np\n",
    "import matplotlib.pyplot as plt\n",
    "import roboticstoolbox as rtb\n",
    "from spatialmath import SE3\n",
    "from math import pi"
   ]
  },
  {
   "cell_type": "markdown",
   "id": "39822e0c",
   "metadata": {},
   "source": [
    "1. Loading the manipulator model Stanford Arm\n"
   ]
  },
  {
   "cell_type": "code",
   "execution_count": 4,
   "id": "40e61d32",
   "metadata": {},
   "outputs": [
    {
     "name": "stdout",
     "output_type": "stream",
     "text": [
      "DHRobot: Stanford Arm, 6 joints (RRPRRR), dynamics, modified DH parameters\n",
      "┌──────┬────────┬──────┬───────┬─────────┬────────┐\n",
      "│ aⱼ₋₁ │  ⍺ⱼ₋₁  │  θⱼ  │  dⱼ   │   q⁻    │   q⁺   │\n",
      "├──────┼────────┼──────┼───────┼─────────┼────────┤\n",
      "│  0.0 │   0.0° │   q1 │ 0.412 │ -180.0° │ 180.0° │\n",
      "│  0.0 │ -90.0° │   q2 │ 0.154 │  -90.0° │  90.0° │\n",
      "│  0.0 │  90.0° │ 0.0° │    q3 │  0.2032 │ 0.9144 │\n",
      "│  0.0 │   0.0° │   q4 │   0.0 │ -180.0° │ 180.0° │\n",
      "│  0.0 │ -90.0° │   q5 │   0.0 │ -180.0° │ 180.0° │\n",
      "│  0.0 │  90.0° │   q6 │ 0.263 │ -180.0° │ 180.0° │\n",
      "└──────┴────────┴──────┴───────┴─────────┴────────┘\n",
      "\n",
      "┌──┬──┐\n",
      "└──┴──┘\n",
      "\n"
     ]
    }
   ],
   "source": [
    "L = [\n",
    "    rtb.RevoluteMDH(d=0.412, qlim=[-pi, pi]),\n",
    "    rtb.RevoluteMDH(d=0.154, alpha=-pi/2, qlim=[-pi/2, pi/2]),\n",
    "    rtb.PrismaticMDH(alpha=pi/2, qlim=[0.2032, 0.9144]),\n",
    "    rtb.RevoluteMDH(qlim=[-pi, pi]),\n",
    "    rtb.RevoluteMDH(alpha=-pi/2, qlim=[-pi, pi]),\n",
    "    rtb.RevoluteMDH(d=0.263, alpha=pi/2, qlim=[-pi, pi])\n",
    "]\n",
    "\n",
    "robot = rtb.DHRobot(L, name='Stanford Arm')\n",
    "print(robot)\n"
   ]
  },
  {
   "cell_type": "code",
   "execution_count": 19,
   "id": "f44b4ba0",
   "metadata": {},
   "outputs": [],
   "source": [
    "m = [3.2, 2.8, 4.5, 1.2, 1.0, 0.8]  # Для 6 звеньев\n",
    "r = [\n",
    "    [0, 0, 0.15],    # Звено 1 (база)\n",
    "    [0.1, 0, 0.2],   # Звено 2 \n",
    "    [0, 0, 0.3],     # Звено 3 (призматическое)\n",
    "    [0.05, 0, 0.1],  # Звено 4\n",
    "    [0, 0.03, 0.08], # Звено 5\n",
    "    [0, 0, 0.05]     # Звено 6 (эффектор)\n",
    "]\n",
    "I = [\n",
    "    [0.12, 0.10, 0.08, 0, 0, 0],    # Звено 1\n",
    "    [0.25, 0.18, 0.15, 0, 0, 0.02], # Звено 2\n",
    "    [0.35, 0.30, 0.40, 0, 0, 0],    # Звено 3\n",
    "    [0.02, 0.03, 0.01, 0, 0, 0],    # Звено 4\n",
    "    [0.015, 0.02, 0.01, 0, 0, 0],   # Звено 5\n",
    "    [0.005, 0.004, 0.003, 0, 0, 0]  # Звено 6\n",
    "]\n",
    "Jm = [0.005, 0.004, 0.006, 0.001, 0.0008, 0.0005]\n",
    "B = [0.15, 0.12, 0.18, 0.08, 0.06, 0.04]\n",
    "\n",
    "Tc = [\n",
    "    [0.25, -0.22],  # Звено 1 \n",
    "    [0.20, -0.18],  # Звено 2\n",
    "    [0.30, -0.28],  # Звено 3\n",
    "    [0.15, -0.13],  # Звено 4\n",
    "    [0.12, -0.10],  # Звено 5\n",
    "    [0.08, -0.07]   # Звено 6\n",
    "]\n",
    "\n",
    "G = [120.0, 100.0, 80.0, 50.0, 40.0, 30.0]\n",
    "\n",
    "qlim = [\n",
    "    [-pi, pi],       # Звено 1 (револьверное)\n",
    "    [-pi/2, pi/2],   # Звено 2\n",
    "    [0.0, 0.9144],   # Звено 3 (призматическое, 0-36\")\n",
    "    [-2*pi, 2*pi],   # Звено 4\n",
    "    [-pi, pi],       # Звено 5\n",
    "    [-pi, pi]        # Звено 6\n",
    "]\n"
   ]
  },
  {
   "cell_type": "code",
   "execution_count": 21,
   "id": "06756ab7",
   "metadata": {},
   "outputs": [],
   "source": [
    "from roboticstoolbox import DHRobot, RevoluteDH, PrismaticDH\n",
    "\n",
    "L = [\n",
    "    RevoluteDH(d=0.412, m=m[0], r=r[0], I=I[0], Jm=Jm[0], B=B[0], Tc=Tc[0], G=G[0], qlim=qlim[0]),\n",
    "    RevoluteDH(d=0.154, alpha=-pi/2, m=m[1], r=r[1], I=I[1], Jm=Jm[1], B=B[1], Tc=Tc[1], G=G[1], qlim=qlim[1]),\n",
    "    PrismaticDH(alpha=pi/2, qlim=qlim[2], m=m[2], r=r[2], I=I[2], Jm=Jm[2], B=B[2], Tc=Tc[2], G=G[2]),\n",
    "    RevoluteDH(m=m[3], r=r[3], I=I[3], Jm=Jm[3], B=B[3], Tc=Tc[3], G=G[3], qlim=qlim[3]),\n",
    "    RevoluteDH(alpha=-pi/2, m=m[4], r=r[4], I=I[4], Jm=Jm[4], B=B[4], Tc=Tc[4], G=G[4], qlim=qlim[4]),\n",
    "    RevoluteDH(d=0.263, alpha=pi/2, m=m[5], r=r[5], I=I[5], Jm=Jm[5], B=B[5], Tc=Tc[5], G=G[5], qlim=qlim[5])\n",
    "]\n",
    "\n",
    "robot = DHRobot(L, name='Stanford Arm')"
   ]
  },
  {
   "cell_type": "code",
   "execution_count": 22,
   "id": "5ef9474d",
   "metadata": {},
   "outputs": [
    {
     "name": "stdout",
     "output_type": "stream",
     "text": [
      "m     =       3.2 \n",
      "r     =         0        0     0.15 \n",
      "        |     0.12        0        0 | \n",
      "I     = |        0      0.1        0 | \n",
      "        |        0        0     0.08 | \n",
      "Jm    =     0.005 \n",
      "B     =      0.15 \n",
      "Tc    =      0.25(+)    -0.22(-) \n",
      "G     =   1.2e+02 \n",
      "qlim  =      -3.1 to      3.1\n"
     ]
    }
   ],
   "source": [
    "print(robot.links[0].dyn())"
   ]
  },
  {
   "cell_type": "markdown",
   "id": "69675f56",
   "metadata": {},
   "source": [
    "2. Definition of working poses \n",
    "Initial pose (q = [θ1, θ2, d3, θ4, θ5, θ6])"
   ]
  },
  {
   "cell_type": "code",
   "execution_count": 5,
   "id": "5ad9ca05",
   "metadata": {},
   "outputs": [],
   "source": [
    "q_start = np.array([0, -np.pi/2, 0.5, 0, np.pi/2, 0])"
   ]
  },
  {
   "cell_type": "markdown",
   "id": "44f796ab",
   "metadata": {},
   "source": [
    "The target pose of the effector"
   ]
  },
  {
   "cell_type": "code",
   "execution_count": 6,
   "id": "38b959f7",
   "metadata": {},
   "outputs": [],
   "source": [
    "goal_pose = SE3(0.8, 0.2, 0.5)  # x, y, z в метрах\n",
    "q_goal = robot.ikine_LM(goal_pose).q  # Решение обратной кинематики"
   ]
  },
  {
   "cell_type": "markdown",
   "id": "efd1680d",
   "metadata": {},
   "source": [
    "3. Identify obstacles"
   ]
  },
  {
   "cell_type": "code",
   "execution_count": 7,
   "id": "87c3a126",
   "metadata": {},
   "outputs": [],
   "source": [
    "obstacles = [\n",
    "    {'center': np.array([0.4, 0.0, 0.3]), 'radius': 0.15},\n",
    "    {'center': np.array([0.6, 0.2, 0.4]), 'radius': 0.1}\n",
    "]"
   ]
  },
  {
   "cell_type": "markdown",
   "id": "bfed9687",
   "metadata": {},
   "source": [
    "4. Potential Functions for Stanford Arm"
   ]
  },
  {
   "cell_type": "code",
   "execution_count": 8,
   "id": "e7380fb3",
   "metadata": {},
   "outputs": [],
   "source": [
    "def attractive_potential(q):\n",
    "    \"\"\"Притяжение к целевой позе эффектора\"\"\"\n",
    "    current_pose = robot.fkine(q).t\n",
    "    return 0.5 * np.linalg.norm(goal_pose.t - current_pose)**2"
   ]
  },
  {
   "cell_type": "code",
   "execution_count": 14,
   "id": "ed056fb1",
   "metadata": {},
   "outputs": [],
   "source": [
    "def repulsive_potential(q):\n",
    "    \"\"\"Отталкивание от препятствий для всех звеньев\"\"\"\n",
    "    rep = 0\n",
    "    \n",
    "    # Получаем позиции всех звеньев для полной конфигурации q\n",
    "    poses = robot.fkine_all(q).data  # Все позы звеньев\n",
    "    \n",
    "    for i in range(robot.n):\n",
    "        # Позиция i-го звена (используем полную конфигурацию)\n",
    "        link_pose = poses[i+1].t  # poses[0] - base, poses[1] - first link\n",
    "        \n",
    "        for obs in obstacles:\n",
    "            distance = np.linalg.norm(link_pose - obs['center']) - obs['radius']\n",
    "            if distance < 0.2:  # Радиус влияния\n",
    "                rep += 0.5 * (1/(distance + 1e-6) - 1/0.2)**2\n",
    "    return rep * 50"
   ]
  },
  {
   "cell_type": "markdown",
   "id": "84912029",
   "metadata": {},
   "source": [
    "5. Numerical calculation of the gradient"
   ]
  },
  {
   "cell_type": "code",
   "execution_count": 16,
   "id": "bdd4fc5e",
   "metadata": {},
   "outputs": [],
   "source": [
    "def compute_gradient(q, epsilon=1e-4):\n",
    "    grad = np.zeros_like(q)\n",
    "    for i in range(len(q)):\n",
    "        q_plus = q.copy()\n",
    "        q_plus[i] += epsilon\n",
    "        q_minus = q.copy()\n",
    "        q_minus[i] -= epsilon\n",
    "        \n",
    "        # Проверка ограничений суставов\n",
    "        q_plus = np.clip(q_plus, robot.qlim[:,0], robot.qlim[:,1])\n",
    "        q_minus = np.clip(q_minus, robot.qlim[:,0], robot.qlim[:,1])\n",
    "        \n",
    "        grad[i] = (attractive_potential(q_plus) + repulsive_potential(q_plus) \n",
    "                  - attractive_potential(q_minus) - repulsive_potential(q_minus)) / (2*epsilon)\n",
    "    return grad\n"
   ]
  },
  {
   "cell_type": "markdown",
   "id": "0374d1aa",
   "metadata": {},
   "source": [
    "6. Trajectory planning"
   ]
  },
  {
   "cell_type": "code",
   "execution_count": 17,
   "id": "1ac46598",
   "metadata": {},
   "outputs": [
    {
     "ename": "ValueError",
     "evalue": "operands could not be broadcast together with shapes (6,) (2,) (2,) ",
     "output_type": "error",
     "traceback": [
      "\u001b[1;31m---------------------------------------------------------------------------\u001b[0m",
      "\u001b[1;31mValueError\u001b[0m                                Traceback (most recent call last)",
      "Cell \u001b[1;32mIn[17], line 7\u001b[0m\n\u001b[0;32m      4\u001b[0m max_iter \u001b[38;5;241m=\u001b[39m \u001b[38;5;241m200\u001b[39m\n\u001b[0;32m      6\u001b[0m \u001b[38;5;28;01mfor\u001b[39;00m _ \u001b[38;5;129;01min\u001b[39;00m \u001b[38;5;28mrange\u001b[39m(max_iter):\n\u001b[1;32m----> 7\u001b[0m     grad \u001b[38;5;241m=\u001b[39m \u001b[43mcompute_gradient\u001b[49m\u001b[43m(\u001b[49m\u001b[43mcurrent_q\u001b[49m\u001b[43m)\u001b[49m\n\u001b[0;32m      8\u001b[0m     current_q \u001b[38;5;241m-\u001b[39m\u001b[38;5;241m=\u001b[39m alpha \u001b[38;5;241m*\u001b[39m grad\n\u001b[0;32m     10\u001b[0m     \u001b[38;5;66;03m# Применение ограничений суставов\u001b[39;00m\n",
      "Cell \u001b[1;32mIn[16], line 10\u001b[0m, in \u001b[0;36mcompute_gradient\u001b[1;34m(q, epsilon)\u001b[0m\n\u001b[0;32m      7\u001b[0m q_minus[i] \u001b[38;5;241m-\u001b[39m\u001b[38;5;241m=\u001b[39m epsilon\n\u001b[0;32m      9\u001b[0m \u001b[38;5;66;03m# Проверка ограничений суставов\u001b[39;00m\n\u001b[1;32m---> 10\u001b[0m q_plus \u001b[38;5;241m=\u001b[39m \u001b[43mnp\u001b[49m\u001b[38;5;241;43m.\u001b[39;49m\u001b[43mclip\u001b[49m\u001b[43m(\u001b[49m\u001b[43mq_plus\u001b[49m\u001b[43m,\u001b[49m\u001b[43m \u001b[49m\u001b[43mrobot\u001b[49m\u001b[38;5;241;43m.\u001b[39;49m\u001b[43mqlim\u001b[49m\u001b[43m[\u001b[49m\u001b[43m:\u001b[49m\u001b[43m,\u001b[49m\u001b[38;5;241;43m0\u001b[39;49m\u001b[43m]\u001b[49m\u001b[43m,\u001b[49m\u001b[43m \u001b[49m\u001b[43mrobot\u001b[49m\u001b[38;5;241;43m.\u001b[39;49m\u001b[43mqlim\u001b[49m\u001b[43m[\u001b[49m\u001b[43m:\u001b[49m\u001b[43m,\u001b[49m\u001b[38;5;241;43m1\u001b[39;49m\u001b[43m]\u001b[49m\u001b[43m)\u001b[49m\n\u001b[0;32m     11\u001b[0m q_minus \u001b[38;5;241m=\u001b[39m np\u001b[38;5;241m.\u001b[39mclip(q_minus, robot\u001b[38;5;241m.\u001b[39mqlim[:,\u001b[38;5;241m0\u001b[39m], robot\u001b[38;5;241m.\u001b[39mqlim[:,\u001b[38;5;241m1\u001b[39m])\n\u001b[0;32m     13\u001b[0m grad[i] \u001b[38;5;241m=\u001b[39m (attractive_potential(q_plus) \u001b[38;5;241m+\u001b[39m repulsive_potential(q_plus) \n\u001b[0;32m     14\u001b[0m           \u001b[38;5;241m-\u001b[39m attractive_potential(q_minus) \u001b[38;5;241m-\u001b[39m repulsive_potential(q_minus)) \u001b[38;5;241m/\u001b[39m (\u001b[38;5;241m2\u001b[39m\u001b[38;5;241m*\u001b[39mepsilon)\n",
      "File \u001b[1;32m<__array_function__ internals>:200\u001b[0m, in \u001b[0;36mclip\u001b[1;34m(*args, **kwargs)\u001b[0m\n",
      "File \u001b[1;32mc:\\Users\\Vladr\\AppData\\Local\\Programs\\Python\\Python38\\lib\\site-packages\\numpy\\core\\fromnumeric.py:2180\u001b[0m, in \u001b[0;36mclip\u001b[1;34m(a, a_min, a_max, out, **kwargs)\u001b[0m\n\u001b[0;32m   2111\u001b[0m \u001b[38;5;129m@array_function_dispatch\u001b[39m(_clip_dispatcher)\n\u001b[0;32m   2112\u001b[0m \u001b[38;5;28;01mdef\u001b[39;00m\u001b[38;5;250m \u001b[39m\u001b[38;5;21mclip\u001b[39m(a, a_min, a_max, out\u001b[38;5;241m=\u001b[39m\u001b[38;5;28;01mNone\u001b[39;00m, \u001b[38;5;241m*\u001b[39m\u001b[38;5;241m*\u001b[39mkwargs):\n\u001b[0;32m   2113\u001b[0m \u001b[38;5;250m    \u001b[39m\u001b[38;5;124;03m\"\"\"\u001b[39;00m\n\u001b[0;32m   2114\u001b[0m \u001b[38;5;124;03m    Clip (limit) the values in an array.\u001b[39;00m\n\u001b[0;32m   2115\u001b[0m \n\u001b[1;32m   (...)\u001b[0m\n\u001b[0;32m   2178\u001b[0m \n\u001b[0;32m   2179\u001b[0m \u001b[38;5;124;03m    \"\"\"\u001b[39;00m\n\u001b[1;32m-> 2180\u001b[0m     \u001b[38;5;28;01mreturn\u001b[39;00m \u001b[43m_wrapfunc\u001b[49m\u001b[43m(\u001b[49m\u001b[43ma\u001b[49m\u001b[43m,\u001b[49m\u001b[43m \u001b[49m\u001b[38;5;124;43m'\u001b[39;49m\u001b[38;5;124;43mclip\u001b[39;49m\u001b[38;5;124;43m'\u001b[39;49m\u001b[43m,\u001b[49m\u001b[43m \u001b[49m\u001b[43ma_min\u001b[49m\u001b[43m,\u001b[49m\u001b[43m \u001b[49m\u001b[43ma_max\u001b[49m\u001b[43m,\u001b[49m\u001b[43m \u001b[49m\u001b[43mout\u001b[49m\u001b[38;5;241;43m=\u001b[39;49m\u001b[43mout\u001b[49m\u001b[43m,\u001b[49m\u001b[43m \u001b[49m\u001b[38;5;241;43m*\u001b[39;49m\u001b[38;5;241;43m*\u001b[39;49m\u001b[43mkwargs\u001b[49m\u001b[43m)\u001b[49m\n",
      "File \u001b[1;32mc:\\Users\\Vladr\\AppData\\Local\\Programs\\Python\\Python38\\lib\\site-packages\\numpy\\core\\fromnumeric.py:57\u001b[0m, in \u001b[0;36m_wrapfunc\u001b[1;34m(obj, method, *args, **kwds)\u001b[0m\n\u001b[0;32m     54\u001b[0m     \u001b[38;5;28;01mreturn\u001b[39;00m _wrapit(obj, method, \u001b[38;5;241m*\u001b[39margs, \u001b[38;5;241m*\u001b[39m\u001b[38;5;241m*\u001b[39mkwds)\n\u001b[0;32m     56\u001b[0m \u001b[38;5;28;01mtry\u001b[39;00m:\n\u001b[1;32m---> 57\u001b[0m     \u001b[38;5;28;01mreturn\u001b[39;00m \u001b[43mbound\u001b[49m\u001b[43m(\u001b[49m\u001b[38;5;241;43m*\u001b[39;49m\u001b[43margs\u001b[49m\u001b[43m,\u001b[49m\u001b[43m \u001b[49m\u001b[38;5;241;43m*\u001b[39;49m\u001b[38;5;241;43m*\u001b[39;49m\u001b[43mkwds\u001b[49m\u001b[43m)\u001b[49m\n\u001b[0;32m     58\u001b[0m \u001b[38;5;28;01mexcept\u001b[39;00m \u001b[38;5;167;01mTypeError\u001b[39;00m:\n\u001b[0;32m     59\u001b[0m     \u001b[38;5;66;03m# A TypeError occurs if the object does have such a method in its\u001b[39;00m\n\u001b[0;32m     60\u001b[0m     \u001b[38;5;66;03m# class, but its signature is not identical to that of NumPy's. This\u001b[39;00m\n\u001b[1;32m   (...)\u001b[0m\n\u001b[0;32m     64\u001b[0m     \u001b[38;5;66;03m# Call _wrapit from within the except clause to ensure a potential\u001b[39;00m\n\u001b[0;32m     65\u001b[0m     \u001b[38;5;66;03m# exception has a traceback chain.\u001b[39;00m\n\u001b[0;32m     66\u001b[0m     \u001b[38;5;28;01mreturn\u001b[39;00m _wrapit(obj, method, \u001b[38;5;241m*\u001b[39margs, \u001b[38;5;241m*\u001b[39m\u001b[38;5;241m*\u001b[39mkwds)\n",
      "File \u001b[1;32mc:\\Users\\Vladr\\AppData\\Local\\Programs\\Python\\Python38\\lib\\site-packages\\numpy\\core\\_methods.py:161\u001b[0m, in \u001b[0;36m_clip\u001b[1;34m(a, min, max, out, casting, **kwargs)\u001b[0m\n\u001b[0;32m    158\u001b[0m     \u001b[38;5;28;01mreturn\u001b[39;00m _clip_dep_invoke_with_casting(\n\u001b[0;32m    159\u001b[0m         um\u001b[38;5;241m.\u001b[39mmaximum, a, \u001b[38;5;28mmin\u001b[39m, out\u001b[38;5;241m=\u001b[39mout, casting\u001b[38;5;241m=\u001b[39mcasting, \u001b[38;5;241m*\u001b[39m\u001b[38;5;241m*\u001b[39mkwargs)\n\u001b[0;32m    160\u001b[0m \u001b[38;5;28;01melse\u001b[39;00m:\n\u001b[1;32m--> 161\u001b[0m     \u001b[38;5;28;01mreturn\u001b[39;00m \u001b[43m_clip_dep_invoke_with_casting\u001b[49m\u001b[43m(\u001b[49m\n\u001b[0;32m    162\u001b[0m \u001b[43m        \u001b[49m\u001b[43mum\u001b[49m\u001b[38;5;241;43m.\u001b[39;49m\u001b[43mclip\u001b[49m\u001b[43m,\u001b[49m\u001b[43m \u001b[49m\u001b[43ma\u001b[49m\u001b[43m,\u001b[49m\u001b[43m \u001b[49m\u001b[38;5;28;43mmin\u001b[39;49m\u001b[43m,\u001b[49m\u001b[43m \u001b[49m\u001b[38;5;28;43mmax\u001b[39;49m\u001b[43m,\u001b[49m\u001b[43m \u001b[49m\u001b[43mout\u001b[49m\u001b[38;5;241;43m=\u001b[39;49m\u001b[43mout\u001b[49m\u001b[43m,\u001b[49m\u001b[43m \u001b[49m\u001b[43mcasting\u001b[49m\u001b[38;5;241;43m=\u001b[39;49m\u001b[43mcasting\u001b[49m\u001b[43m,\u001b[49m\u001b[43m \u001b[49m\u001b[38;5;241;43m*\u001b[39;49m\u001b[38;5;241;43m*\u001b[39;49m\u001b[43mkwargs\u001b[49m\u001b[43m)\u001b[49m\n",
      "File \u001b[1;32mc:\\Users\\Vladr\\AppData\\Local\\Programs\\Python\\Python38\\lib\\site-packages\\numpy\\core\\_methods.py:115\u001b[0m, in \u001b[0;36m_clip_dep_invoke_with_casting\u001b[1;34m(ufunc, out, casting, *args, **kwargs)\u001b[0m\n\u001b[0;32m    113\u001b[0m \u001b[38;5;66;03m# try to deal with broken casting rules\u001b[39;00m\n\u001b[0;32m    114\u001b[0m \u001b[38;5;28;01mtry\u001b[39;00m:\n\u001b[1;32m--> 115\u001b[0m     \u001b[38;5;28;01mreturn\u001b[39;00m \u001b[43mufunc\u001b[49m\u001b[43m(\u001b[49m\u001b[38;5;241;43m*\u001b[39;49m\u001b[43margs\u001b[49m\u001b[43m,\u001b[49m\u001b[43m \u001b[49m\u001b[43mout\u001b[49m\u001b[38;5;241;43m=\u001b[39;49m\u001b[43mout\u001b[49m\u001b[43m,\u001b[49m\u001b[43m \u001b[49m\u001b[38;5;241;43m*\u001b[39;49m\u001b[38;5;241;43m*\u001b[39;49m\u001b[43mkwargs\u001b[49m\u001b[43m)\u001b[49m\n\u001b[0;32m    116\u001b[0m \u001b[38;5;28;01mexcept\u001b[39;00m _exceptions\u001b[38;5;241m.\u001b[39m_UFuncOutputCastingError \u001b[38;5;28;01mas\u001b[39;00m e:\n\u001b[0;32m    117\u001b[0m     \u001b[38;5;66;03m# Numpy 1.17.0, 2019-02-24\u001b[39;00m\n\u001b[0;32m    118\u001b[0m     warnings\u001b[38;5;241m.\u001b[39mwarn(\n\u001b[0;32m    119\u001b[0m         \u001b[38;5;124m\"\u001b[39m\u001b[38;5;124mConverting the output of clip from \u001b[39m\u001b[38;5;132;01m{!r}\u001b[39;00m\u001b[38;5;124m to \u001b[39m\u001b[38;5;132;01m{!r}\u001b[39;00m\u001b[38;5;124m is deprecated. \u001b[39m\u001b[38;5;124m\"\u001b[39m\n\u001b[0;32m    120\u001b[0m         \u001b[38;5;124m\"\u001b[39m\u001b[38;5;124mPass `casting=\u001b[39m\u001b[38;5;130;01m\\\"\u001b[39;00m\u001b[38;5;124munsafe\u001b[39m\u001b[38;5;130;01m\\\"\u001b[39;00m\u001b[38;5;124m` explicitly to silence this warning, or \u001b[39m\u001b[38;5;124m\"\u001b[39m\n\u001b[1;32m   (...)\u001b[0m\n\u001b[0;32m    123\u001b[0m         stacklevel\u001b[38;5;241m=\u001b[39m\u001b[38;5;241m2\u001b[39m\n\u001b[0;32m    124\u001b[0m     )\n",
      "\u001b[1;31mValueError\u001b[0m: operands could not be broadcast together with shapes (6,) (2,) (2,) "
     ]
    }
   ],
   "source": [
    "path = [q_start.copy()]\n",
    "current_q = q_start.copy()\n",
    "alpha = 0.05  # Скорость обучения\n",
    "max_iter = 200\n",
    "\n",
    "for _ in range(max_iter):\n",
    "    grad = compute_gradient(current_q)\n",
    "    current_q -= alpha * grad\n",
    "    \n",
    "    # Применение ограничений суставов\n",
    "    current_q = np.clip(current_q, robot.qlim[:,0], robot.qlim[:,1])\n",
    "    \n",
    "    path.append(current_q.copy())\n",
    "    \n",
    "    # Проверка достижения цели\n",
    "    if np.linalg.norm(robot.fkine(current_q).t - goal_pose.t) < 0.02:\n",
    "        break\n",
    "\n",
    "path = np.array(path)"
   ]
  },
  {
   "cell_type": "markdown",
   "id": "08df5d66",
   "metadata": {},
   "source": [
    "7. Visualization"
   ]
  },
  {
   "cell_type": "code",
   "execution_count": null,
   "id": "c5a31556",
   "metadata": {},
   "outputs": [],
   "source": [
    "# Анимация движения\n",
    "robot.plot(path, backend='swift', dt=0.05)\n",
    "\n",
    "# График траектории в пространстве\n",
    "fig = plt.figure(figsize=(10,6))\n",
    "ax = fig.add_subplot(111, projection='3d')\n",
    "\n",
    "# Траектория эффектора\n",
    "ee_path = np.array([robot.fkine(q).t for q in path])\n",
    "ax.plot(ee_path[:,0], ee_path[:,1], ee_path[:,2], 'b-', lw=2)\n",
    "\n",
    "# Препятствия\n",
    "for obs in obstacles:\n",
    "    u, v = np.mgrid[0:2*np.pi:20j, 0:np.pi:10j]\n",
    "    x = obs['center'][0] + obs['radius']*np.cos(u)*np.sin(v)\n",
    "    y = obs['center'][1] + obs['radius']*np.sin(u)*np.sin(v)\n",
    "    z = obs['center'][2] + obs['radius']*np.cos(v)\n",
    "    ax.plot_surface(x, y, z, color='r', alpha=0.3)\n",
    "\n",
    "ax.set_xlabel('X')\n",
    "ax.set_ylabel('Y')\n",
    "ax.set_zlabel('Z')\n",
    "plt.title('Траектория Stanford Arm с учётом препятствий')\n",
    "plt.show()"
   ]
  },
  {
   "cell_type": "markdown",
   "id": "61f2223b",
   "metadata": {},
   "source": []
  }
 ],
 "metadata": {
  "kernelspec": {
   "display_name": "Python 3",
   "language": "python",
   "name": "python3"
  },
  "language_info": {
   "codemirror_mode": {
    "name": "ipython",
    "version": 3
   },
   "file_extension": ".py",
   "mimetype": "text/x-python",
   "name": "python",
   "nbconvert_exporter": "python",
   "pygments_lexer": "ipython3",
   "version": "3.8.10"
  }
 },
 "nbformat": 4,
 "nbformat_minor": 5
}
